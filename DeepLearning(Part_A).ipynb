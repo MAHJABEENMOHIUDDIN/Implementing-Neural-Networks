{
  "cells": [
    {
      "cell_type": "markdown",
      "metadata": {
        "id": "-kcF6GRPRK8Z"
      },
      "source": [
        "# Perceptron from scratch\n",
        "\n",
        "In this assignment, we will be reimplementing a Neural Networks from scratch.\n",
        "\n",
        "In part A, we are going to build a simple Perceptron on a small dataset that contains only 3 features.\n",
        "\n",
        "<img src='https://drive.google.com/uc?id=1aUtXFBMKUumwfZ-2jmR5SIvNYPaD-t2x' width=\"500\" height=\"250\">\n",
        "\n",
        "Some of the code have already been defined for you. You need only to add your code in the sections specified (marked with **TODO**). Some assert statements have been added to verify the expected outputs are correct. If it does throw an error, this means your implementation is behaving as expected.\n",
        "\n",
        "Note: You are only allowed to use Numpy and Pandas packages for the implemention of Perceptron. You can not packages such as Sklearn or Tensorflow."
      ]
    },
    {
      "cell_type": "markdown",
      "metadata": {
        "id": "wUg1PkpnZAya"
      },
      "source": [
        "# 1. Import Required Packages\n",
        "\n",
        "[1.1] We are going to use numpy and random packages"
      ]
    },
    {
      "cell_type": "code",
      "execution_count": 1,
      "metadata": {
        "id": "2rit905Vv-4-"
      },
      "outputs": [],
      "source": [
        "import numpy as np\n",
        "import random"
      ]
    },
    {
      "cell_type": "markdown",
      "metadata": {
        "id": "oFznxXvATvMo"
      },
      "source": [
        "# 2. Define Dataset\n",
        "\n",
        "[2.1] We are going to use a simple dataset containing 3 features and 7 observations. The target variable is a binary outcome (either 0 or 1)"
      ]
    },
    {
      "cell_type": "code",
      "execution_count": 3,
      "metadata": {
        "id": "CPN-_r8FLCgS"
      },
      "outputs": [],
      "source": [
        "input_set = np.array([[0,1,0], [0,0,1], [1,0,0], [1,1,0], [1,1,1], [0,1,1], [0,1,0]])\n",
        "labels = np.array([[1], [0], [0], [1], [1], [0], [1]])"
      ]
    },
    {
      "cell_type": "markdown",
      "metadata": {
        "id": "SyYmv5E0T3XP"
      },
      "source": [
        "# 3. Set Initial Parameters"
      ]
    },
    {
      "cell_type": "markdown",
      "metadata": {
        "id": "W9kp1UWFUc9N"
      },
      "source": [
        "[3.1] Let's set the seed in order to have reproducible outcomes"
      ]
    },
    {
      "cell_type": "code",
      "execution_count": 4,
      "metadata": {
        "id": "RgolHUMVT8GA"
      },
      "outputs": [],
      "source": [
        "np.random.seed(42)"
      ]
    },
    {
      "cell_type": "markdown",
      "metadata": {
        "id": "5BFSPtVAUpf-"
      },
      "source": [
        "[3.2] **TODO**: Define a function that will create a Numpy array of a given shape with random values.\n",
        "\n",
        "\n",
        "For example, `initialise_array(3,1)` will return an array of dimensions (3,1)that can look like this (values may be different):\n",
        "\n",
        "\n",
        "`array([[0.37454012],\n",
        "       [0.95071431],\n",
        "       [0.73199394]])`"
      ]
    },
    {
      "cell_type": "code",
      "execution_count": 14,
      "metadata": {
        "colab": {
          "base_uri": "https://localhost:8080/"
        },
        "id": "p_dorRcqVYCT",
        "outputId": "73345aac-b710-40be-f9e3-c83bba81adab"
      },
      "outputs": [
        {
          "name": "stdout",
          "output_type": "stream",
          "text": [
            "The result of array is:\n",
            " [[0.70807258]\n",
            " [0.02058449]\n",
            " [0.96990985]]\n"
          ]
        }
      ],
      "source": [
        "# TODO (Students need to fill this section)\n",
        "def initialise_array(shape):\n",
        "    return np.random.rand(*shape)\n",
        "\n",
        "result_array = initialise_array((3,1))\n",
        "print(\"The result of array is:\\n\",result_array)"
      ]
    },
    {
      "cell_type": "markdown",
      "metadata": {
        "id": "tRQW2pyTXHL7"
      },
      "source": [
        "[3.3] **TODO**: Create a Numpy array of shape (3,1) called `init_weights` filled with random values using `initialise_array()` and print them."
      ]
    },
    {
      "cell_type": "code",
      "execution_count": 15,
      "metadata": {
        "colab": {
          "base_uri": "https://localhost:8080/"
        },
        "id": "SKg1QtPdXlQW",
        "outputId": "4419e13d-1724-49ff-e0e0-3f23aa11747a"
      },
      "outputs": [
        {
          "name": "stdout",
          "output_type": "stream",
          "text": [
            "The initialized weights are:\n",
            " [[0.83244264]\n",
            " [0.21233911]\n",
            " [0.18182497]]\n"
          ]
        }
      ],
      "source": [
        "# TODO (Students need to fill this section)\n",
        "init_weights = initialise_array((3,1))\n",
        "print(\"The initialized weights are:\\n\",init_weights)"
      ]
    },
    {
      "cell_type": "markdown",
      "metadata": {
        "id": "yhl-s-nNXzWL"
      },
      "source": [
        "[3.4] **TODO**: Create a Numpy array of shape (1,) called `init_bias` filled with a random value using `initialise_array()` and print it."
      ]
    },
    {
      "cell_type": "code",
      "execution_count": 16,
      "metadata": {
        "colab": {
          "base_uri": "https://localhost:8080/"
        },
        "id": "7GWLGBDDX6Ge",
        "outputId": "e417ca81-496d-4e10-a8b9-a663a021c24b"
      },
      "outputs": [
        {
          "name": "stdout",
          "output_type": "stream",
          "text": [
            "The initialized bias is:\n",
            " [1]\n"
          ]
        }
      ],
      "source": [
        "# TODO (Students need to fill this section)\n",
        "init_bias = np.array((1,))\n",
        "print(\"The initialized bias is:\\n\",init_bias)"
      ]
    },
    {
      "cell_type": "markdown",
      "metadata": {
        "id": "-o3y_gmFX9U3"
      },
      "source": [
        "[3.5] Assert statements to check your created variables have the expected shapes"
      ]
    },
    {
      "cell_type": "code",
      "execution_count": 17,
      "metadata": {
        "id": "6ZKdef3yWpXh"
      },
      "outputs": [],
      "source": [
        "assert init_weights.shape == (3, 1)\n",
        "assert init_bias.shape == (1,)"
      ]
    },
    {
      "cell_type": "markdown",
      "metadata": {
        "id": "PcWYiiMWYRET"
      },
      "source": [
        "# 4. Define Linear Function\n",
        "In this section we are going to implement the linear function of a neuron:\n",
        "\n",
        "<img src='https://drive.google.com/uc?id=1vhfpGffqletFDzMIvWkCMR2jrHE5MBy5' width=\"500\" height=\"300\">"
      ]
    },
    {
      "cell_type": "markdown",
      "metadata": {
        "id": "6LX0Yn_OYw3V"
      },
      "source": [
        "[4.1] **TODO**: Define a function that will perform a dot product on the provided X and weights and add the bias to it"
      ]
    },
    {
      "cell_type": "code",
      "execution_count": 18,
      "metadata": {
        "id": "ZKx_OQKnZ2UH"
      },
      "outputs": [],
      "source": [
        "# TODO (Students need to fill this section)\n",
        "def linear(X, weights, bias):\n",
        "    return np.dot(X,weights) + bias"
      ]
    },
    {
      "cell_type": "markdown",
      "metadata": {
        "id": "wIhdbPD8bayw"
      },
      "source": [
        "[4.2] Assert statements to check your linear function is behaving as expected"
      ]
    },
    {
      "cell_type": "code",
      "execution_count": 19,
      "metadata": {
        "id": "BF7DDft0aOPU"
      },
      "outputs": [],
      "source": [
        "test_weights = [[0.37454012],[0.95071431],[0.73199394]]\n",
        "test_bias = [0.59865848]\n",
        "assert linear(X=input_set[0], weights=test_weights, bias=test_bias)[0] == 1.54937279\n",
        "assert linear(X=input_set[1], weights=test_weights, bias=test_bias)[0] == 1.3306524199999998\n",
        "assert linear(X=input_set[2], weights=test_weights, bias=test_bias)[0] == 0.9731985999999999\n",
        "assert linear(X=input_set[3], weights=test_weights, bias=test_bias)[0] == 1.9239129099999999\n",
        "assert linear(X=input_set[4], weights=test_weights, bias=test_bias)[0] == 2.65590685\n",
        "assert linear(X=input_set[5], weights=test_weights, bias=test_bias)[0] == 2.28136673\n",
        "assert linear(X=input_set[6], weights=test_weights, bias=test_bias)[0] == 1.54937279"
      ]
    },
    {
      "cell_type": "markdown",
      "metadata": {
        "id": "aPU5Rq62blmE"
      },
      "source": [
        "# 5. Activation Function\n",
        "\n",
        "In the forward pass, an activation function is applied on the result of the linear function. We are going to implement the sigmoid function and its derivative:\n",
        "\n",
        "<img src='https://drive.google.com/uc?id=1LK7yjCp4KBICYNvTXzILQUzQbkm7G9xC' width=\"200\" height=\"100\">\n",
        "<img src='https://drive.google.com/uc?id=1f5jUyw0wgiVufNqveeJVZnQc6pOrDJXD' width=\"300\" height=\"100\">\n"
      ]
    },
    {
      "cell_type": "markdown",
      "metadata": {
        "id": "rYZHAb-RdNck"
      },
      "source": [
        "[5.1] **TODO**: Define a function that will implement the sigmoid function"
      ]
    },
    {
      "cell_type": "code",
      "execution_count": 26,
      "metadata": {
        "id": "fmqOuw4afvrH"
      },
      "outputs": [],
      "source": [
        "# TODO (Students need to fill this section)\n",
        "def sigmoid(x):\n",
        "    return (1 / (1+np.exp(-x)))"
      ]
    },
    {
      "cell_type": "markdown",
      "metadata": {
        "id": "AsWa4glVf4zB"
      },
      "source": [
        "[5.2] Assert statements to check your sigmoid function is behaving as expected"
      ]
    },
    {
      "cell_type": "code",
      "execution_count": 27,
      "metadata": {
        "colab": {
          "base_uri": "https://localhost:8080/"
        },
        "id": "f_36rZRrLfP9",
        "outputId": "cbcd3c05-9e36-4bd5-9b48-c96b7a5c05cf"
      },
      "outputs": [
        {
          "name": "stderr",
          "output_type": "stream",
          "text": [
            "<ipython-input-26-7d5a39de872b>:3: RuntimeWarning: overflow encountered in exp\n",
            "  return (1 / (1+np.exp(-x)))\n"
          ]
        }
      ],
      "source": [
        "assert sigmoid(0) == 0.5\n",
        "assert sigmoid(1) == 0.7310585786300049\n",
        "assert sigmoid(-1) == 0.2689414213699951\n",
        "assert sigmoid(9999999999999) == 1.0\n",
        "assert sigmoid(-9999999999999) == 0.0"
      ]
    },
    {
      "cell_type": "markdown",
      "metadata": {
        "id": "MEnLWtDCgWLF"
      },
      "source": [
        "[5.3] **TODO**: Define a function that will implement the derivative of the sigmoid function"
      ]
    },
    {
      "cell_type": "code",
      "execution_count": 28,
      "metadata": {
        "id": "OG3SorjugZyS"
      },
      "outputs": [],
      "source": [
        "# TODO (Students need to fill this section)\n",
        "def sigmoid_derivative(x):\n",
        "    sig_x = sigmoid(x)\n",
        "    return sig_x * (1 - sig_x)\n"
      ]
    },
    {
      "cell_type": "markdown",
      "metadata": {
        "id": "vwVtASkEgeok"
      },
      "source": [
        "[5.2] Assert statements to check your sigmoid_derivative function is behaving as expected"
      ]
    },
    {
      "cell_type": "code",
      "execution_count": 29,
      "metadata": {
        "colab": {
          "base_uri": "https://localhost:8080/"
        },
        "id": "oVXCcUTZLUpj",
        "outputId": "8cab176a-3ce9-42b8-c089-1eb46cb40910"
      },
      "outputs": [
        {
          "name": "stderr",
          "output_type": "stream",
          "text": [
            "<ipython-input-26-7d5a39de872b>:3: RuntimeWarning: overflow encountered in exp\n",
            "  return (1 / (1+np.exp(-x)))\n"
          ]
        }
      ],
      "source": [
        "assert sigmoid_derivative(0) == 0.25\n",
        "assert sigmoid_derivative(1) == 0.19661193324148185\n",
        "assert sigmoid_derivative(-1) == 0.19661193324148185\n",
        "assert sigmoid_derivative(9999999999999) == 0.0\n",
        "assert sigmoid_derivative(-9999999999999) == 0.0"
      ]
    },
    {
      "cell_type": "markdown",
      "metadata": {
        "id": "LMacN5l4gkim"
      },
      "source": [
        "# 6. Forward Pass\n",
        "\n",
        "Now we have everything we need to implement the forward propagation"
      ]
    },
    {
      "cell_type": "markdown",
      "metadata": {
        "id": "ticTCz4Yg1Ze"
      },
      "source": [
        "[6.1] **TODO**: Define a function that will implement the forward pass (apply linear function on the input followed by the sigmoid activation function)"
      ]
    },
    {
      "cell_type": "code",
      "execution_count": 32,
      "metadata": {
        "id": "FuyjHgpahKD9"
      },
      "outputs": [],
      "source": [
        "# TODO (Students need to fill this section)\n",
        "def forward(X, weights, bias):\n",
        "\n",
        "    linear_result = np.dot(X, weights) + bias\n",
        "    return sigmoid(linear_result)"
      ]
    },
    {
      "cell_type": "markdown",
      "metadata": {
        "id": "l4ZI4yoDhPrX"
      },
      "source": [
        "[6.2] Assert statements to check your forward function is behaving as expected"
      ]
    },
    {
      "cell_type": "code",
      "execution_count": 33,
      "metadata": {
        "id": "ebJmLZQtNJMQ"
      },
      "outputs": [],
      "source": [
        "assert forward(X=input_set[0], weights=test_weights, bias=test_bias)[0] == 0.8248231247647452\n",
        "assert forward(X=input_set[1], weights=test_weights, bias=test_bias)[0] == 0.7909485322272701\n",
        "assert forward(X=input_set[2], weights=test_weights, bias=test_bias)[0] == 0.7257565873271445\n",
        "assert forward(X=input_set[3], weights=test_weights, bias=test_bias)[0] == 0.8725741389540382\n",
        "assert forward(X=input_set[4], weights=test_weights, bias=test_bias)[0] == 0.9343741240208852\n",
        "assert forward(X=input_set[5], weights=test_weights, bias=test_bias)[0] == 0.9073220375080315\n",
        "assert forward(X=input_set[6], weights=test_weights, bias=test_bias)[0] == 0.8248231247647452"
      ]
    },
    {
      "cell_type": "markdown",
      "metadata": {
        "id": "hLlcne6nhTiF"
      },
      "source": [
        "# 7. Calculate Error\n",
        "\n",
        "After the forward pass, the Neural Networks will calculate the error between its predictions (output of forward pass) and the actual targets."
      ]
    },
    {
      "cell_type": "markdown",
      "metadata": {
        "id": "ucesRV6mgi5Q"
      },
      "source": [
        "[7.1] **TODO**: Define a function that will implement the error calculation (difference between predictions and actual targets)"
      ]
    },
    {
      "cell_type": "code",
      "execution_count": 38,
      "metadata": {
        "id": "08oSjRvmh3_S"
      },
      "outputs": [],
      "source": [
        "# TODO (Students need to fill this section)\n",
        "def calculate_error(actual, pred):\n",
        "    return pred - actual"
      ]
    },
    {
      "cell_type": "markdown",
      "metadata": {
        "id": "X5TWDZdIh_-D"
      },
      "source": [
        "[7.2] Assert statements to check your calculate_error function is behaving as expected"
      ]
    },
    {
      "cell_type": "code",
      "execution_count": 39,
      "metadata": {
        "id": "GAWsb4KpOgL4"
      },
      "outputs": [],
      "source": [
        "test_actual = np.array([0,0,0,1,1,1])\n",
        "assert calculate_error(actual=test_actual, pred=[0,0,0,1,1,1]).sum() == 0\n",
        "assert calculate_error(actual=test_actual, pred=[0,0,0,1,1,0]).sum() == -1\n",
        "assert calculate_error(actual=test_actual, pred=[0,0,0,0,0,0]).sum() == -3"
      ]
    },
    {
      "cell_type": "markdown",
      "metadata": {
        "id": "JUulr3gZiUXx"
      },
      "source": [
        "# 8. Calculate Gradients\n",
        "Once the error has been calculated, a Neural Networks will use this information to update its weights accordingly."
      ]
    },
    {
      "cell_type": "markdown",
      "metadata": {
        "id": "zGcDakS9imth"
      },
      "source": [
        "[8.1] Let's creata function that calculate the gradients using the sigmoid derivative function and applying the chain rule."
      ]
    },
    {
      "cell_type": "code",
      "execution_count": 40,
      "metadata": {
        "id": "pvLIqdu9QQBg"
      },
      "outputs": [],
      "source": [
        "def calculate_gradients(pred, error, input):\n",
        "  dpred = sigmoid_derivative(pred)\n",
        "  z_del = error * dpred\n",
        "  gradients = np.dot(input.T, z_del)\n",
        "  return gradients, z_del"
      ]
    },
    {
      "cell_type": "markdown",
      "metadata": {
        "id": "VS4K4qlSi0kp"
      },
      "source": [
        "# 9. Training\n",
        "\n",
        "Now that we built all the components of a Neural Networks, we can finally train it on our dataset."
      ]
    },
    {
      "cell_type": "markdown",
      "metadata": {
        "id": "BcOC1D6LjKEX"
      },
      "source": [
        "[9.1] Create 2 variables called `weights` and `bias` that will respectively take the value of `init_weights` and `init_bias`"
      ]
    },
    {
      "cell_type": "code",
      "execution_count": 41,
      "metadata": {
        "id": "ohEe-udeOZR1"
      },
      "outputs": [],
      "source": [
        "weights = init_weights\n",
        "bias = init_bias"
      ]
    },
    {
      "cell_type": "markdown",
      "metadata": {
        "id": "L8_DzvuqjXOe"
      },
      "source": [
        "[9.2] Create a variable called `lr` that will be used as the learning rate for updating the weights"
      ]
    },
    {
      "cell_type": "code",
      "execution_count": 42,
      "metadata": {
        "id": "X2DFhqF4jJdz"
      },
      "outputs": [],
      "source": [
        "lr = 0.5"
      ]
    },
    {
      "cell_type": "markdown",
      "metadata": {
        "id": "QYt-FXr2jhNI"
      },
      "source": [
        "[9.3] Create a variable called `epochs` with the value 10000. This will the number of times the Neural Networks will process the entire dataset and update its weights"
      ]
    },
    {
      "cell_type": "code",
      "execution_count": 43,
      "metadata": {
        "id": "VS8BWdy5jlra"
      },
      "outputs": [],
      "source": [
        "epochs = 10000"
      ]
    },
    {
      "cell_type": "markdown",
      "metadata": {
        "id": "zrA8T0r0j0SO"
      },
      "source": [
        "[9.4] Create a for loop that will perform the training of our Neural Networks"
      ]
    },
    {
      "cell_type": "code",
      "execution_count": 44,
      "metadata": {
        "id": "VvACgpjDMPpI"
      },
      "outputs": [],
      "source": [
        "for epoch in range(epochs):\n",
        "    inputs = input_set\n",
        "\n",
        "    # Forward Propagation\n",
        "    z = forward(X=inputs, weights=weights, bias=bias)\n",
        "\n",
        "    # Error\n",
        "    error = calculate_error(actual=labels, pred=z)\n",
        "\n",
        "    # Back Propagation\n",
        "    gradients, z_del = calculate_gradients(pred=z, error=error, input=input_set)\n",
        "\n",
        "    # Update parameters\n",
        "    weights = weights - lr * gradients\n",
        "    for num in z_del:\n",
        "        bias = bias - lr * num\n"
      ]
    },
    {
      "cell_type": "markdown",
      "metadata": {
        "id": "K9jYXShpkEp7"
      },
      "source": [
        "[9.5] **TODO** Print the final values of `weights` and `bias`"
      ]
    },
    {
      "cell_type": "code",
      "execution_count": 48,
      "metadata": {
        "colab": {
          "base_uri": "https://localhost:8080/"
        },
        "id": "POA_DyrRkPup",
        "outputId": "8af09ebd-8972-4a4a-a5b0-415a73561bca"
      },
      "outputs": [
        {
          "name": "stdout",
          "output_type": "stream",
          "text": [
            "The weights are:\n",
            " [[  9.38999666]\n",
            " [ 20.33829321]\n",
            " [-10.49298804]]\n",
            "The bias is : [-14.5582192]\n"
          ]
        }
      ],
      "source": [
        "# TODO (Students need to fill this section)\n",
        "print(\"The weights are:\\n\", weights)\n",
        "print(\"The bias is :\", bias)"
      ]
    },
    {
      "cell_type": "markdown",
      "metadata": {
        "id": "XAtGwsp6iNuw"
      },
      "source": [
        "# 10. Compare before and after training\n",
        "\n",
        "Let's compare the predictions of our Neural Networks before (using `init_weights` and `init_bias`) and after the training (using `weights` and `bias`)"
      ]
    },
    {
      "cell_type": "markdown",
      "metadata": {
        "id": "lU5T4iJTkv8j"
      },
      "source": [
        "[10.1] Create a function to display the values of a single observation from the dataset (using its index), the error and the actual target and prediction"
      ]
    },
    {
      "cell_type": "code",
      "execution_count": 50,
      "metadata": {
        "id": "j4yTdgGcQms5"
      },
      "outputs": [],
      "source": [
        "def compare_pred(weights, bias, index, X, y):\n",
        "    pred = forward(X=X[index], weights=weights, bias=bias)\n",
        "    actual = y[index]\n",
        "    error = calculate_error(actual, pred)\n",
        "    print(f\"{X[index]} - Error {error} - Actual: {actual} - Pred: {pred}\")"
      ]
    },
    {
      "cell_type": "markdown",
      "metadata": {
        "id": "kEK9e_0ulM-k"
      },
      "source": [
        "[10.2] Compare the results on the first observation (index 0)"
      ]
    },
    {
      "cell_type": "code",
      "execution_count": 51,
      "metadata": {
        "colab": {
          "base_uri": "https://localhost:8080/"
        },
        "id": "Q3FA6y1QQc-l",
        "outputId": "44ca9ca7-f91c-4b77-b6a0-c81a976049f0"
      },
      "outputs": [
        {
          "name": "stdout",
          "output_type": "stream",
          "text": [
            "[0 1 0] - Error [-0.22928743] - Actual: [1] - Pred: [0.77071257]\n",
            "[0 1 0] - Error [-0.00307898] - Actual: [1] - Pred: [0.99692102]\n"
          ]
        }
      ],
      "source": [
        "compare_pred(weights=init_weights, bias=init_bias, index=0, X=input_set, y=labels)\n",
        "compare_pred(weights=weights, bias=bias, index=0, X=input_set, y=labels)"
      ]
    },
    {
      "cell_type": "markdown",
      "metadata": {
        "id": "emEbcf13lyjE"
      },
      "source": [
        "[10.3] Compare the results on the second observation (index 1)"
      ]
    },
    {
      "cell_type": "code",
      "execution_count": 52,
      "metadata": {
        "colab": {
          "base_uri": "https://localhost:8080/"
        },
        "id": "jQMJvQ_FlywM",
        "outputId": "dd0ed73d-b258-4ce6-cc12-1be743ea3368"
      },
      "outputs": [
        {
          "name": "stdout",
          "output_type": "stream",
          "text": [
            "[0 0 1] - Error [0.76527578] - Actual: [0] - Pred: [0.76527578]\n",
            "[0 0 1] - Error [1.31946821e-11] - Actual: [0] - Pred: [1.31946821e-11]\n"
          ]
        }
      ],
      "source": [
        "compare_pred(weights=init_weights, bias=init_bias, index=1, X=input_set, y=labels)\n",
        "compare_pred(weights=weights, bias=bias, index=1, X=input_set, y=labels)"
      ]
    },
    {
      "cell_type": "markdown",
      "metadata": {
        "id": "BUtP4AmWld0f"
      },
      "source": [
        "[10.4] Compare the results on the third observation (index 2)"
      ]
    },
    {
      "cell_type": "code",
      "execution_count": 53,
      "metadata": {
        "colab": {
          "base_uri": "https://localhost:8080/"
        },
        "id": "imU4LVeqQTXg",
        "outputId": "f22e5c84-8f71-4685-f5e8-8e58a328d11b"
      },
      "outputs": [
        {
          "name": "stdout",
          "output_type": "stream",
          "text": [
            "[1 0 0] - Error [0.86205246] - Actual: [0] - Pred: [0.86205246]\n",
            "[1 0 0] - Error [0.00566244] - Actual: [0] - Pred: [0.00566244]\n"
          ]
        }
      ],
      "source": [
        "compare_pred(weights=init_weights, bias=init_bias, index=2, X=input_set, y=labels)\n",
        "compare_pred(weights=weights, bias=bias, index=2, X=input_set, y=labels)"
      ]
    },
    {
      "cell_type": "markdown",
      "metadata": {
        "id": "7n7_s2EAl7M2"
      },
      "source": [
        "[10.5] Compare the results on the forth observation (index 3)"
      ]
    },
    {
      "cell_type": "code",
      "execution_count": 54,
      "metadata": {
        "colab": {
          "base_uri": "https://localhost:8080/"
        },
        "id": "GFgNdYm0l7TD",
        "outputId": "840355f0-e9b9-41d2-987a-b1bb0ee9df00"
      },
      "outputs": [
        {
          "name": "stdout",
          "output_type": "stream",
          "text": [
            "[1 1 0] - Error [-0.11458072] - Actual: [1] - Pred: [0.88541928]\n",
            "[1 1 0] - Error [-2.58060721e-07] - Actual: [1] - Pred: [0.99999974]\n"
          ]
        }
      ],
      "source": [
        "compare_pred(weights=init_weights, bias=init_bias, index=3, X=input_set, y=labels)\n",
        "compare_pred(weights=weights, bias=bias, index=3, X=input_set, y=labels)"
      ]
    },
    {
      "cell_type": "markdown",
      "metadata": {
        "id": "wnr_LygFmAvK"
      },
      "source": [
        "[10.6] Compare the results on the fifth observation (index 4)"
      ]
    },
    {
      "cell_type": "code",
      "execution_count": 55,
      "metadata": {
        "colab": {
          "base_uri": "https://localhost:8080/"
        },
        "id": "euONWlvWmA1o",
        "outputId": "b95404dc-fa08-41a8-f64d-f3abaab8bc1e"
      },
      "outputs": [
        {
          "name": "stdout",
          "output_type": "stream",
          "text": [
            "[1 1 1] - Error [-0.09738651] - Actual: [1] - Pred: [0.90261349]\n",
            "[1 1 1] - Error [-0.00922032] - Actual: [1] - Pred: [0.99077968]\n"
          ]
        }
      ],
      "source": [
        "compare_pred(weights=init_weights, bias=init_bias, index=4, X=input_set, y=labels)\n",
        "compare_pred(weights=weights, bias=bias, index=4, X=input_set, y=labels)"
      ]
    },
    {
      "cell_type": "markdown",
      "metadata": {
        "id": "exRMYCRKlhI3"
      },
      "source": [
        "[10.7] Compare the results on the sixth observation (index 5)"
      ]
    },
    {
      "cell_type": "code",
      "execution_count": 56,
      "metadata": {
        "colab": {
          "base_uri": "https://localhost:8080/"
        },
        "id": "e77HEuVWQN_9",
        "outputId": "5db6dc75-fcd6-469f-a0ba-64c56fa4b4eb"
      },
      "outputs": [
        {
          "name": "stdout",
          "output_type": "stream",
          "text": [
            "[0 1 1] - Error [0.80125618] - Actual: [0] - Pred: [0.80125618]\n",
            "[0 1 1] - Error [0.00889868] - Actual: [0] - Pred: [0.00889868]\n"
          ]
        }
      ],
      "source": [
        "compare_pred(weights=init_weights, bias=init_bias, index=5, X=input_set, y=labels)\n",
        "compare_pred(weights=weights, bias=bias, index=5, X=input_set, y=labels)"
      ]
    },
    {
      "cell_type": "markdown",
      "metadata": {
        "id": "pumbj0jHmLur"
      },
      "source": [
        "[10.8] Compare the results on the sixth observation (index 5)"
      ]
    },
    {
      "cell_type": "code",
      "execution_count": 57,
      "metadata": {
        "colab": {
          "base_uri": "https://localhost:8080/"
        },
        "id": "0glVvMi5mL1s",
        "outputId": "18cd57f3-63a4-435e-91a5-ba5d5c1b9813"
      },
      "outputs": [
        {
          "name": "stdout",
          "output_type": "stream",
          "text": [
            "[0 1 0] - Error [-0.22928743] - Actual: [1] - Pred: [0.77071257]\n",
            "[0 1 0] - Error [-0.00307898] - Actual: [1] - Pred: [0.99692102]\n"
          ]
        }
      ],
      "source": [
        "compare_pred(weights=init_weights, bias=init_bias, index=6, X=input_set, y=labels)\n",
        "compare_pred(weights=weights, bias=bias, index=6, X=input_set, y=labels)"
      ]
    },
    {
      "cell_type": "markdown",
      "metadata": {
        "id": "TIKnRhySlqga"
      },
      "source": [
        "We can see after 10000 epochs, our Neural Networks is performing extremely well on our dataset. It has found pretty good values for the weights and bias to make accurate prediction."
      ]
    },
    {
      "cell_type": "markdown",
      "metadata": {
        "id": "C7SGwABjmqN7"
      },
      "source": [
        "Please submit this notebook into Canvas. Name it following this rule: *assignment1-partA-\\<student_id\\>.ipynb*"
      ]
    }
  ],
  "metadata": {
    "colab": {
      "provenance": []
    },
    "kernelspec": {
      "display_name": "Python 3",
      "name": "python3"
    },
    "language_info": {
      "name": "python"
    }
  },
  "nbformat": 4,
  "nbformat_minor": 0
}
